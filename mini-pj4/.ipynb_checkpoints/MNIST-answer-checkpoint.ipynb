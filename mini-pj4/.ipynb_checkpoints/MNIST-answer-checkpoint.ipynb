{
 "cells": [
  {
   "cell_type": "code",
   "execution_count": null,
   "metadata": {},
   "outputs": [],
   "source": [
    "# Discription: This is for practice of Machine Learning module in LACC 2019\n",
    "# In this mini-project, you will load the MNIST dataset images and use SVM and CNN \n",
    "# for hand-written digitsclassification"
   ]
  },
  {
   "cell_type": "code",
   "execution_count": null,
   "metadata": {},
   "outputs": [],
   "source": [
    "from PIL import Image\n",
    "import numpy as np\n",
    "import os"
   ]
  },
  {
   "cell_type": "code",
   "execution_count": null,
   "metadata": {},
   "outputs": [],
   "source": [
    "def load_data():\n",
    "    # read all images in MNIST, shape the data and save as \"data\"/\"label\"\n",
    "    data = np.empty((42000,28,28,1),dtype=\"float32\")\n",
    "    label = np.empty((42000,),dtype=\"uint8\")\n",
    "    imgs = os.listdir(\"./mnist\")\n",
    "    \n",
    "    num = len(imgs)\n",
    "    for i in range(num):\n",
    "        img = Image.open(\"./mnist/\"+imgs[i])\n",
    "        arr = np.asarray(img,dtype=\"float32\")\n",
    "        data[i,:,:,0] = arr\n",
    "        label[i] = int(imgs[i].split('.')[0])\n",
    "        \n",
    "    data /= np.max(data)\n",
    "    data -= np.mean(data)\n",
    "    return data,label"
   ]
  },
  {
   "cell_type": "code",
   "execution_count": null,
   "metadata": {},
   "outputs": [],
   "source": [
    "data,label = load_data()\n",
    "print(data.shape)"
   ]
  },
  {
   "cell_type": "code",
   "execution_count": null,
   "metadata": {},
   "outputs": [],
   "source": [
    "# Randomly shuffle the original dataset and then split it into training set and testing set.\n",
    "from sklearn.model_selection import train_test_split\n",
    "X_train, X_test, y_train, y_test = train_test_split(data, label, test_size=10000, random_state=42)"
   ]
  },
  {
   "cell_type": "code",
   "execution_count": null,
   "metadata": {},
   "outputs": [],
   "source": [
    "#import necessary libraries for data processing\n",
    "from six.moves import range\n",
    "from data import load_data\n",
    "import random\n",
    "import _compat_pickle\n",
    "\n",
    "import pickle\n",
    "\n",
    "os.environ['KMP_DUPLICATE_LIB_OK']='True'#for macOS user only"
   ]
  }
 ],
 "metadata": {
  "kernelspec": {
   "display_name": "Python 3",
   "language": "python",
   "name": "python3"
  },
  "language_info": {
   "codemirror_mode": {
    "name": "ipython",
    "version": 3
   },
   "file_extension": ".py",
   "mimetype": "text/x-python",
   "name": "python",
   "nbconvert_exporter": "python",
   "pygments_lexer": "ipython3",
   "version": "3.6.7"
  }
 },
 "nbformat": 4,
 "nbformat_minor": 2
}
