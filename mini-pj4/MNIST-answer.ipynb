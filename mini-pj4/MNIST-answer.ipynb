{
 "cells": [
  {
   "cell_type": "code",
   "execution_count": 1,
   "metadata": {},
   "outputs": [],
   "source": [
    "# Discription: This is for practice of Machine Learning module in LACC 2019\n",
    "# In this mini-project, you will load the MNIST dataset images and use SVM and CNN \n",
    "# for hand-written digitsclassification"
   ]
  },
  {
   "cell_type": "code",
   "execution_count": 2,
   "metadata": {},
   "outputs": [
    {
     "name": "stderr",
     "output_type": "stream",
     "text": [
      "Using TensorFlow backend.\n"
     ]
    }
   ],
   "source": [
    "from PIL import Image\n",
    "import numpy as np\n",
    "import os\n",
    "from keras import utils"
   ]
  },
  {
   "cell_type": "code",
   "execution_count": 3,
   "metadata": {},
   "outputs": [],
   "source": [
    "def load_data():\n",
    "    # read all images in MNIST, shape the data and save as \"data\"/\"label\"\n",
    "    data = np.empty((42000,28,28,1),dtype=\"float32\")\n",
    "    label = np.empty((42000,),dtype=\"uint8\")\n",
    "    imgs = os.listdir(\"./mnist\")\n",
    "    \n",
    "    num = len(imgs)\n",
    "    for i in range(num):\n",
    "        img = Image.open(\"./mnist/\"+imgs[i])\n",
    "        arr = np.asarray(img,dtype=\"float32\")\n",
    "        data[i,:,:,0] = arr\n",
    "        label[i] = int(imgs[i].split('.')[0])\n",
    "        \n",
    "    data /= np.max(data)\n",
    "    data -= np.mean(data)\n",
    "    return data,label"
   ]
  },
  {
   "cell_type": "code",
   "execution_count": 4,
   "metadata": {},
   "outputs": [
    {
     "name": "stdout",
     "output_type": "stream",
     "text": [
      "(42000, 28, 28, 1)\n"
     ]
    }
   ],
   "source": [
    "data,label = load_data()\n",
    "print(data.shape)\n",
    "# data = data.reshape(len(data), 28*28, 1, 1)\n",
    "# data = np.squeeze(data)\n",
    "# print(data.shape)"
   ]
  },
  {
   "cell_type": "code",
   "execution_count": 5,
   "metadata": {},
   "outputs": [],
   "source": [
    "# Randomly shuffle the original dataset and then split it into training set and testing set.\n",
    "from sklearn.model_selection import train_test_split\n",
    "nb_class = 10\n",
    "label = utils.to_categorical(label, nb_class)\n",
    "X_train, X_test, y_train, y_test = train_test_split(data, label, test_size=10000, random_state=42)"
   ]
  },
  {
   "cell_type": "code",
   "execution_count": 6,
   "metadata": {},
   "outputs": [
    {
     "name": "stdout",
     "output_type": "stream",
     "text": [
      "(32000, 28, 28, 1)\n",
      "(32000, 10)\n",
      "(10000, 28, 28, 1)\n",
      "(10000, 10)\n"
     ]
    }
   ],
   "source": [
    "print(X_train.shape)\n",
    "print(y_train.shape)\n",
    "print(X_test.shape)\n",
    "print(y_test.shape)"
   ]
  },
  {
   "cell_type": "code",
   "execution_count": 7,
   "metadata": {},
   "outputs": [],
   "source": [
    "from keras.models import Sequential \n",
    "from keras.layers import Dense, Conv2D, Dropout, Flatten, MaxPooling2D, BatchNormalization, ReLU\n",
    "from keras.optimizers import Adam\n",
    "from keras.callbacks import EarlyStopping\n",
    "# Creating a Sequential Model and adding the layers \n",
    "def create_model():\n",
    "    model = Sequential() \n",
    "    model.add(Conv2D(8, kernel_size=(5,5), input_shape=(28,28,1))) \n",
    "    model.add(BatchNormalization())\n",
    "    model.add(Dropout(0.2)) \n",
    "    model.add(ReLU())\n",
    "    model.add(Conv2D(8, kernel_size=(3,3))) \n",
    "    model.add(BatchNormalization())\n",
    "    model.add(Dropout(0.2)) \n",
    "    model.add(ReLU())\n",
    "    model.add(MaxPooling2D(pool_size=(2,2))) \n",
    "    model.add(Conv2D(16, kernel_size=(3,3))) \n",
    "    model.add(BatchNormalization())\n",
    "    model.add(Dropout(0.2)) \n",
    "    model.add(ReLU())\n",
    "    model.add(Conv2D(16, kernel_size=(3,3))) \n",
    "    model.add(BatchNormalization())\n",
    "    model.add(Dropout(0.2)) \n",
    "    model.add(ReLU())\n",
    "    model.add(Flatten()) # Flattening the 2D arrays for fully connected layers \n",
    "    model.add(Dense(128)) \n",
    "    model.add(BatchNormalization())\n",
    "    model.add(Dropout(0.2)) \n",
    "    model.add(ReLU())\n",
    "    model.add(Dense(nb_class, activation='softmax'))\n",
    "    return model"
   ]
  },
  {
   "cell_type": "code",
   "execution_count": 8,
   "metadata": {},
   "outputs": [
    {
     "name": "stdout",
     "output_type": "stream",
     "text": [
      "WARNING:tensorflow:From /anaconda3/lib/python3.6/site-packages/tensorflow/python/framework/op_def_library.py:263: colocate_with (from tensorflow.python.framework.ops) is deprecated and will be removed in a future version.\n",
      "Instructions for updating:\n",
      "Colocations handled automatically by placer.\n",
      "WARNING:tensorflow:From /anaconda3/lib/python3.6/site-packages/keras/backend/tensorflow_backend.py:3445: calling dropout (from tensorflow.python.ops.nn_ops) with keep_prob is deprecated and will be removed in a future version.\n",
      "Instructions for updating:\n",
      "Please use `rate` instead of `keep_prob`. Rate should be set to `rate = 1 - keep_prob`.\n"
     ]
    }
   ],
   "source": [
    "model = create_model()\n",
    "adam = Adam(lr=0.001, beta_1=0.9, beta_2=0.999, epsilon=None, decay=0.0, amsgrad=False)\n",
    "model.compile(loss='categorical_crossentropy', optimizer=adam)"
   ]
  },
  {
   "cell_type": "code",
   "execution_count": 9,
   "metadata": {},
   "outputs": [
    {
     "name": "stdout",
     "output_type": "stream",
     "text": [
      "WARNING:tensorflow:From /anaconda3/lib/python3.6/site-packages/tensorflow/python/ops/math_ops.py:3066: to_int32 (from tensorflow.python.ops.math_ops) is deprecated and will be removed in a future version.\n",
      "Instructions for updating:\n",
      "Use tf.cast instead.\n",
      "Train on 32000 samples, validate on 10000 samples\n",
      "Epoch 1/10\n",
      "32000/32000 [==============================] - 41s 1ms/step - loss: 0.3914 - val_loss: 0.1703\n",
      "Epoch 2/10\n",
      "32000/32000 [==============================] - 36s 1ms/step - loss: 0.1210 - val_loss: 0.0973\n",
      "Epoch 3/10\n",
      "32000/32000 [==============================] - 37s 1ms/step - loss: 0.0857 - val_loss: 0.0894\n",
      "Epoch 4/10\n",
      "32000/32000 [==============================] - 38s 1ms/step - loss: 0.0754 - val_loss: 0.0856\n",
      "Epoch 5/10\n",
      "32000/32000 [==============================] - 40s 1ms/step - loss: 0.0632 - val_loss: 0.0607\n",
      "Epoch 6/10\n",
      "32000/32000 [==============================] - 36s 1ms/step - loss: 0.0584 - val_loss: 0.0515\n",
      "Epoch 7/10\n",
      "32000/32000 [==============================] - 37s 1ms/step - loss: 0.0534 - val_loss: 0.0674\n",
      "Epoch 8/10\n",
      "32000/32000 [==============================] - 37s 1ms/step - loss: 0.0478 - val_loss: 0.0567\n",
      "Epoch 9/10\n",
      "32000/32000 [==============================] - 37s 1ms/step - loss: 0.0459 - val_loss: 0.0646\n"
     ]
    }
   ],
   "source": [
    "import pickle\n",
    "early_stopping = EarlyStopping(monitor='val_loss', patience=3)\n",
    "model.fit(X_train, y_train, batch_size=64, validation_data=(X_test, y_test),\n",
    "          epochs=10, callbacks=[early_stopping])\n",
    "pickle.dump(model, open(\"./model.pkl\", \"wb\"))"
   ]
  },
  {
   "cell_type": "code",
   "execution_count": 14,
   "metadata": {},
   "outputs": [],
   "source": [
    "predicted_label = model.predict_classes(X_test)"
   ]
  },
  {
   "cell_type": "code",
   "execution_count": 15,
   "metadata": {},
   "outputs": [],
   "source": [
    "import matplotlib.pyplot as plt\n",
    "import itertools\n",
    "def plot_confusion_matrix(cm, classes, normalize=False,\n",
    "                          title='Confusion matrix', cmap=plt.cm.Blues):\n",
    "    # This function prints and plots the confusion matrix.\n",
    "    # Normalization can be applied by setting `normalize=True`.\n",
    "    if normalize:\n",
    "        cm = cm.astype('float') / cm.sum(axis=1)[:, np.newaxis]\n",
    "        # print(\"Normalized confusion matrix\")\n",
    "    else:\n",
    "        # print('Confusion matrix, without normalization')\n",
    "        pass\n",
    "    # print(cm)\n",
    "    plt.figure(figsize=(10,10))\n",
    "    plt.imshow(cm, interpolation='nearest', cmap=cmap)\n",
    "    plt.title(title)\n",
    "    plt.colorbar()\n",
    "    tick_marks = np.arange(len(classes))\n",
    "    plt.xticks(tick_marks, classes, rotation=45)\n",
    "    plt.yticks(tick_marks, classes)\n",
    "\n",
    "    fmt = '.2f' if normalize else 'd'\n",
    "    thresh = cm.max() / 2.\n",
    "    for i, j in itertools.product(range(cm.shape[0]), range(cm.shape[1])):\n",
    "        plt.text(j, i, format(cm[i, j], fmt),\n",
    "                 horizontalalignment=\"center\",\n",
    "                 color=\"white\" if cm[i, j] > thresh else \"black\")\n",
    "\n",
    "    plt.ylabel('True label')\n",
    "    plt.xlabel('Predicted label')\n",
    "    plt.tight_layout()\n",
    "    plt.show()"
   ]
  },
  {
   "cell_type": "code",
   "execution_count": null,
   "metadata": {},
   "outputs": [],
   "source": [
    "y_test = np.nonzero(y_test)[1]"
   ]
  },
  {
   "cell_type": "code",
   "execution_count": 18,
   "metadata": {},
   "outputs": [
    {
     "name": "stdout",
     "output_type": "stream",
     "text": [
      "Accuracy score for one vs. one is : 0.98\n",
      "Recall score for one vs. one is : 0.98\n",
      "Precision score for one vs. one is : 0.9805497181194159\n",
      "F1 score for one vs. one is : 0.9799733870960523\n"
     ]
    },
    {
     "data": {
      "image/png": "[encoded data removed]",
      "text/plain": [
       "<Figure size 720x720 with 2 Axes>"
      ]
     },
     "metadata": {
      "needs_background": "light"
     },
     "output_type": "display_data"
    }
   ],
   "source": [
    "from sklearn.metrics import accuracy_score\n",
    "from sklearn.metrics import precision_score\n",
    "from sklearn.metrics import recall_score\n",
    "from sklearn.metrics import f1_score\n",
    "from sklearn.metrics import confusion_matrix\n",
    "\n",
    "accuracy = accuracy_score(y_test, predicted_label)\n",
    "recall = recall_score(y_test, predicted_label, average = 'weighted')\n",
    "precision = precision_score(y_test, predicted_label, average = 'weighted')\n",
    "f1 = f1_score(y_test, predicted_label, average = 'weighted')\n",
    "\n",
    "print(\"Accuracy score for one vs. one is : {}\".format(accuracy))\n",
    "print(\"Recall score for one vs. one is : {}\".format(recall))\n",
    "print(\"Precision score for one vs. one is : {}\".format(precision))\n",
    "print(\"F1 score for one vs. one is : {}\".format(f1))\n",
    "cnf_matrix = confusion_matrix(y_test, predicted_label)\n",
    "plot_confusion_matrix(cnf_matrix, classes=list(np.arange(0,10)),\n",
    "                      normalize=True, title='One vs. One Confusion Matrix')"
   ]
  }
 ],
 "metadata": {
  "kernelspec": {
   "display_name": "Python 3",
   "language": "python",
   "name": "python3"
  },
  "language_info": {
   "codemirror_mode": {
    "name": "ipython",
    "version": 3
   },
   "file_extension": ".py",
   "mimetype": "text/x-python",
   "name": "python",
   "nbconvert_exporter": "python",
   "pygments_lexer": "ipython3",
   "version": "3.6.7"
  }
 },
 "nbformat": 4,
 "nbformat_minor": 2
}
