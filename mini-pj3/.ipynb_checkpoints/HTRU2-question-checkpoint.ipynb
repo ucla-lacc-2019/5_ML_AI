{
 "cells": [
  {
   "cell_type": "code",
   "execution_count": null,
   "metadata": {},
   "outputs": [],
   "source": [
    "import pandas as pd\n",
    "import numpy as np"
   ]
  },
  {
   "cell_type": "code",
   "execution_count": null,
   "metadata": {},
   "outputs": [],
   "source": [
    "# load the dataset from CSV file\n",
    "dataset = pd.read_csv(\"HTRU_2.csv\",names=list(np.arange(0,9)))\n",
    "print(dataset[8].value_counts())"
   ]
  },
  {
   "cell_type": "code",
   "execution_count": null,
   "metadata": {},
   "outputs": [],
   "source": [
    "# You should see that this dataset is extremely uneven\n",
    "dataset"
   ]
  },
  {
   "cell_type": "code",
   "execution_count": null,
   "metadata": {},
   "outputs": [],
   "source": [
    "dataset = np.array(dataset)\n",
    "# split the dataset into positive data, positive label, negative_data, negative_label\n",
    "# store them with variable data_pos, label_pos, data_neg, label_neg\n",
    "\n",
    "#########################################\n",
    "\n",
    "dataset = np.array(dataset)\n",
    "data_pos = dataset[np.where(dataset[:,8]!=0)[0] ,0:8]\n",
    "label_pos = dataset[np.where(dataset[:,8]!=0)[0] ,8]\n",
    "data_neg = dataset[np.where(dataset[:,8]==0)[0] ,0:8]\n",
    "label_neg = dataset[np.where(dataset[:,8]==0)[0] ,8]\n",
    "\n",
    "#########################################"
   ]
  },
  {
   "cell_type": "code",
   "execution_count": null,
   "metadata": {},
   "outputs": [],
   "source": [
    "print(data_pos.shape)\n",
    "print(data_neg.shape)\n",
    "# expect the answer to be\n",
    "# (1639, 8)\n",
    "# (16259, 8)"
   ]
  },
  {
   "cell_type": "code",
   "execution_count": null,
   "metadata": {},
   "outputs": [],
   "source": [
    "# split the positve data into two parts: 400 samples form the test set, the rest samples form the training set\n",
    "# split the negative data into two parts: test set of 400 samples, training set with the same number of samples\n",
    "# as that of positive data\n",
    "# hint: use train_test_split in sklearn.model_selection\n",
    "\n",
    "# Concatenate the positive/negative training/test subset\n",
    "# Store the answers with X_train, X_test, y_train, y_test\n",
    "\n",
    "########################################\n",
    "\n",
    "# Your code here\n",
    "X_train = np.concatenate((X_train_pos, X_train_neg),axis=0)\n",
    "X_test = np.concatenate((X_test_pos, X_test_neg),axis=0)\n",
    "y_train = np.concatenate((y_train_pos, y_train_neg),axis=0)\n",
    "y_test = np.concatenate((y_test_pos, y_test_neg),axis=0)\n",
    "########################################"
   ]
  },
  {
   "cell_type": "code",
   "execution_count": null,
   "metadata": {},
   "outputs": [],
   "source": [
    "from sklearn.neighbors import KNeighborsClassifier\n",
    "\n",
    "# train a KNN model with n=5\n",
    "# make predictions on the test dataset\n",
    "########################################\n",
    "\n",
    "# Your code here\n",
    "\n",
    "########################################"
   ]
  },
  {
   "cell_type": "code",
   "execution_count": null,
   "metadata": {},
   "outputs": [],
   "source": [
    "# Draw confusion matrix. You do not need to make changes to this part\n",
    "import matplotlib.pyplot as plt\n",
    "import itertools\n",
    "def plot_confusion_matrix(cm, classes, normalize=False,\n",
    "                          title='Confusion matrix', cmap=plt.cm.Blues):\n",
    "    # This function prints and plots the confusion matrix.\n",
    "    # Normalization can be applied by setting `normalize=True`.\n",
    "    if normalize:\n",
    "        cm = cm.astype('float') / cm.sum(axis=1)[:, np.newaxis]\n",
    "        # print(\"Normalized confusion matrix\")\n",
    "    else:\n",
    "        # print('Confusion matrix, without normalization')\n",
    "        pass\n",
    "    # print(cm)\n",
    "    plt.figure()\n",
    "    plt.imshow(cm, interpolation='nearest', cmap=cmap)\n",
    "    plt.title(title)\n",
    "    plt.colorbar()\n",
    "    tick_marks = np.arange(len(classes))\n",
    "    plt.xticks(tick_marks, classes, rotation=45)\n",
    "    plt.yticks(tick_marks, classes)\n",
    "\n",
    "    fmt = '.2f' if normalize else 'd'\n",
    "    thresh = cm.max() / 2.\n",
    "    for i, j in itertools.product(range(cm.shape[0]), range(cm.shape[1])):\n",
    "        plt.text(j, i, format(cm[i, j], fmt),\n",
    "                 horizontalalignment=\"center\",\n",
    "                 color=\"white\" if cm[i, j] > thresh else \"black\")\n",
    "\n",
    "    plt.ylabel('True label')\n",
    "    plt.xlabel('Predicted label')\n",
    "    plt.tight_layout()\n",
    "    plt.show()"
   ]
  },
  {
   "cell_type": "code",
   "execution_count": null,
   "metadata": {},
   "outputs": [],
   "source": [
    "from sklearn.metrics import accuracy_score\n",
    "from sklearn.metrics import precision_score\n",
    "from sklearn.metrics import recall_score\n",
    "from sklearn.metrics import f1_score\n",
    "from sklearn.metrics import confusion_matrix\n",
    "\n",
    "\n",
    "# Calculate the accuracy, precision, recall, f1 score based on your prediction\n",
    "# Then print them out\n",
    "\n",
    "########################################\n",
    "\n",
    "# Your code here\n",
    "\n",
    "########################################"
   ]
  },
  {
   "cell_type": "code",
   "execution_count": null,
   "metadata": {},
   "outputs": [],
   "source": [
    "cnf_matrix = confusion_matrix(y_test, predicted_label)\n",
    "plot_confusion_matrix(cnf_matrix, classes=['non-Pulsar','Pulsar'],\n",
    "                      normalize=True, title='One vs. One Confusion Matrix')"
   ]
  },
  {
   "cell_type": "code",
   "execution_count": null,
   "metadata": {},
   "outputs": [],
   "source": [
    "from sklearn.svm import SVC\n",
    "\n",
    "# Train a SVM model using linear kernel, C=10\n",
    "# make predictions on the test data\n",
    "\n",
    "########################################\n",
    "\n",
    "# Your code here\n",
    "\n",
    "########################################"
   ]
  },
  {
   "cell_type": "code",
   "execution_count": null,
   "metadata": {},
   "outputs": [],
   "source": [
    "\n",
    "# Calculate the accuracy, precision, recall, f1 score based on your prediction\n",
    "# Then print them out\n",
    "# draw the confusion matrix of your new prediciton\n",
    "\n",
    "########################################\n",
    "\n",
    "# Your code here\n",
    "\n",
    "########################################"
   ]
  }
 ],
 "metadata": {
  "kernelspec": {
   "display_name": "Python 3",
   "language": "python",
   "name": "python3"
  },
  "language_info": {
   "codemirror_mode": {
    "name": "ipython",
    "version": 3
   },
   "file_extension": ".py",
   "mimetype": "text/x-python",
   "name": "python",
   "nbconvert_exporter": "python",
   "pygments_lexer": "ipython3",
   "version": "3.6.7"
  }
 },
 "nbformat": 4,
 "nbformat_minor": 2
}
